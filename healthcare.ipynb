{
 "cells": [
  {
   "cell_type": "code",
   "execution_count": 1,
   "metadata": {},
   "outputs": [],
   "source": [
    "# @title\n",
    "import numpy as np\n",
    "import pandas as pd\n",
    "import matplotlib.pyplot as plt\n",
    "import seaborn as sns\n",
    "# Path-Tracing Tools for Line/Curve-Drawing\n",
    "import matplotlib.path as mpath\n",
    "\n",
    "# Tools for Text Imposition\n",
    "from matplotlib.text import Text\n",
    "\n",
    "# Line/Curve-Styling Tools\n",
    "import matplotlib.lines as mlines\n",
    "\n",
    "# Specialized Line-Drawing Utility\n",
    "from matplotlib.lines import Line2D\n",
    "\n",
    "# 2D Polygon-Drawing Tools\n",
    "import matplotlib.patches as mpatches\n",
    "\n",
    "# Grid Structuring Tools\n",
    "import matplotlib.gridspec as gridspec\n",
    "\n",
    "# 3D Plotting Utilities\n",
    "from mpl_toolkits.mplot3d import Axes3D\n",
    "\n",
    "# Tick Locating/Formatting Tools\n",
    "from matplotlib.ticker import FuncFormatter\n",
    "\n",
    "# Specialized Polygon Imposition Tools\n",
    "from matplotlib.patches import Rectangle, Polygon\n",
    "\n",
    "# Collection of Prebuilt Patch Objects\n",
    "from matplotlib.collections import PatchCollection"
   ]
  },
  {
   "cell_type": "code",
   "execution_count": 2,
   "metadata": {},
   "outputs": [],
   "source": [
    "DATAPATH = \"healthcare_dataset.csv\"\n",
    "dataset = pd.read_csv(DATAPATH)\n"
   ]
  },
  {
   "cell_type": "code",
   "execution_count": 3,
   "metadata": {},
   "outputs": [
    {
     "data": {
      "text/plain": [
       "['Name',\n",
       " 'Age',\n",
       " 'Gender',\n",
       " 'Blood Type',\n",
       " 'Medical Condition',\n",
       " 'Date of Admission',\n",
       " 'Doctor',\n",
       " 'Hospital',\n",
       " 'Insurance Provider',\n",
       " 'Billing Amount',\n",
       " 'Room Number',\n",
       " 'Admission Type',\n",
       " 'Discharge Date',\n",
       " 'Medication',\n",
       " 'Test Results']"
      ]
     },
     "execution_count": 3,
     "metadata": {},
     "output_type": "execute_result"
    }
   ],
   "source": [
    "FEATURES = dataset.columns.tolist()\n",
    "\n",
    "FEATURES"
   ]
  },
  {
   "cell_type": "code",
   "execution_count": 4,
   "metadata": {},
   "outputs": [],
   "source": [
    "REFPATH = \"healthcare_reference.csv\"\n",
    "\n",
    "DESCRIPTORS = [\n",
    "    \"Name of the patient associated with the healthcare record\",\n",
    "    \"Age of the patient at the time of admission, expressed in years\",\n",
    "    \"Gender of the patient, either 'Male' or 'Female'\",\n",
    "    \"Patient's blood type, which can be one of the common blood types (e.g., 'A+', 'O-', etc.)\",\n",
    "    \"Specifies the primary medical condition or diagnosis associated with the patient, such as 'Diabetes', 'Hypertension', 'Asthma', and more\",\n",
    "    \"Date on which the patient was admitted to the healthcare facility\",\n",
    "    \"The name of the doctor responsible for the patient's care during their admission\",\n",
    "    \"Identifies the healthcare facility or hospital where the patient was admitted\",\n",
    "    \"Indicates the patient's insurance provider, which can be one of several options, including 'Aetna', 'Blue Cross', 'Cigna', 'UnitedHealthcare', and 'Medicare'\",\n",
    "    \"Amount of money billed for the patient's healthcare services during their admission. This is expressed as a floating-point number\",\n",
    "    \"The room number where the patient was accommodated during their admission\",\n",
    "    \"Specifies the type of admission, which can be 'Emergency', 'Elective', or 'Urgent', reflecting the circumstances of the admission\",\n",
    "    \"The date on which the patient was discharged from the healthcare facility, based on the admission date and a random number of days within a realistic range\",\n",
    "    \"Identifies a medication prescribed or administered to the patient during their admission. Examples include 'Aspirin', 'Ibuprofen', 'Penicillin', 'Paracetamol', and 'Lipitor'\",\n",
    "    \"Describes the results of a medical test conducted during the patient's admission. Possible values include 'Normal', 'Abnormal', or 'Inconclusive', indicating the outcome of the test\",\n",
    "]"
   ]
  },
  {
   "cell_type": "code",
   "execution_count": 5,
   "metadata": {},
   "outputs": [],
   "source": [
    "# @title\n",
    "def operate_data_dictionary(features, descriptors, method=\"set\", refpath=None):\n",
    "  \"\"\" Operational function to work in creating or getting data dictionary. \"\"\"\n",
    "  if method == \"set\":\n",
    "    # Produce dictionary-wrapped key-value associations of feature summaries\n",
    "    data_dictionary = dict(zip(FEATURES, DESCRIPTORS))\n",
    "    # Convert data dictionary to cleaner reference table\n",
    "    reference = pd.DataFrame(data_dictionary, index=[0])\n",
    "    # Save reference table for future access\n",
    "    if refpath is not None and type(refpath) == str:\n",
    "      reference.to_csv(refpath, index=False)\n",
    "  if method == \"get\":\n",
    "    # Get reference table from saved data dictionary\n",
    "    if refpath is not None and type(refpath) == str:\n",
    "      return pd.read_csv(refpath)\n",
    "    else:\n",
    "      raise TypeError(\"Saved file for data dictionary not found.\")\n",
    "\n",
    "def encode_categorical_feature(dataset, feature, encoding=\"label\"):\n",
    "  \"\"\" Custom function to encode categorical features using label-schema. \"\"\"\n",
    "  # Instantiate encoder architecture\n",
    "  if encoding == \"label\":\n",
    "    encoder = LabelEncoder()\n",
    "  # Transform dataset feature using labeling schema (performs in-place)\n",
    "  dataset[feature] = encoder.fit_transform(dataset[feature])\n",
    "  # Get fitted encoder (just in case)\n",
    "  return encoder"
   ]
  },
  {
   "cell_type": "code",
   "execution_count": 6,
   "metadata": {},
   "outputs": [],
   "source": [
    "# Set data dictionary as reference table\n",
    "operate_data_dictionary(features=FEATURES,\n",
    "                        descriptors=DESCRIPTORS,\n",
    "                        method=\"set\",\n",
    "                        refpath=REFPATH)"
   ]
  },
  {
   "cell_type": "code",
   "execution_count": 7,
   "metadata": {},
   "outputs": [],
   "source": [
    "# Get data dictionary as reference table\n",
    "reference = operate_data_dictionary(features=FEATURES,\n",
    "                                    descriptors=DESCRIPTORS,\n",
    "                                    method=\"get\",\n",
    "                                    refpath=REFPATH)"
   ]
  },
  {
   "cell_type": "code",
   "execution_count": 8,
   "metadata": {},
   "outputs": [
    {
     "data": {
      "text/html": [
       "<div>\n",
       "<style scoped>\n",
       "    .dataframe tbody tr th:only-of-type {\n",
       "        vertical-align: middle;\n",
       "    }\n",
       "\n",
       "    .dataframe tbody tr th {\n",
       "        vertical-align: top;\n",
       "    }\n",
       "\n",
       "    .dataframe thead th {\n",
       "        text-align: right;\n",
       "    }\n",
       "</style>\n",
       "<table border=\"1\" class=\"dataframe\">\n",
       "  <thead>\n",
       "    <tr style=\"text-align: right;\">\n",
       "      <th></th>\n",
       "      <th>0</th>\n",
       "    </tr>\n",
       "  </thead>\n",
       "  <tbody>\n",
       "    <tr>\n",
       "      <th>Name</th>\n",
       "      <td>Name of the patient associated with the health...</td>\n",
       "    </tr>\n",
       "    <tr>\n",
       "      <th>Age</th>\n",
       "      <td>Age of the patient at the time of admission, e...</td>\n",
       "    </tr>\n",
       "    <tr>\n",
       "      <th>Gender</th>\n",
       "      <td>Gender of the patient, either 'Male' or 'Female'</td>\n",
       "    </tr>\n",
       "    <tr>\n",
       "      <th>Blood Type</th>\n",
       "      <td>Patient's blood type, which can be one of the ...</td>\n",
       "    </tr>\n",
       "    <tr>\n",
       "      <th>Medical Condition</th>\n",
       "      <td>Specifies the primary medical condition or dia...</td>\n",
       "    </tr>\n",
       "    <tr>\n",
       "      <th>Date of Admission</th>\n",
       "      <td>Date on which the patient was admitted to the ...</td>\n",
       "    </tr>\n",
       "    <tr>\n",
       "      <th>Doctor</th>\n",
       "      <td>The name of the doctor responsible for the pat...</td>\n",
       "    </tr>\n",
       "    <tr>\n",
       "      <th>Hospital</th>\n",
       "      <td>Identifies the healthcare facility or hospital...</td>\n",
       "    </tr>\n",
       "    <tr>\n",
       "      <th>Insurance Provider</th>\n",
       "      <td>Indicates the patient's insurance provider, wh...</td>\n",
       "    </tr>\n",
       "    <tr>\n",
       "      <th>Billing Amount</th>\n",
       "      <td>Amount of money billed for the patient's healt...</td>\n",
       "    </tr>\n",
       "    <tr>\n",
       "      <th>Room Number</th>\n",
       "      <td>The room number where the patient was accommod...</td>\n",
       "    </tr>\n",
       "    <tr>\n",
       "      <th>Admission Type</th>\n",
       "      <td>Specifies the type of admission, which can be ...</td>\n",
       "    </tr>\n",
       "    <tr>\n",
       "      <th>Discharge Date</th>\n",
       "      <td>The date on which the patient was discharged f...</td>\n",
       "    </tr>\n",
       "    <tr>\n",
       "      <th>Medication</th>\n",
       "      <td>Identifies a medication prescribed or administ...</td>\n",
       "    </tr>\n",
       "    <tr>\n",
       "      <th>Test Results</th>\n",
       "      <td>Describes the results of a medical test conduc...</td>\n",
       "    </tr>\n",
       "  </tbody>\n",
       "</table>\n",
       "</div>"
      ],
      "text/plain": [
       "                                                                    0\n",
       "Name                Name of the patient associated with the health...\n",
       "Age                 Age of the patient at the time of admission, e...\n",
       "Gender               Gender of the patient, either 'Male' or 'Female'\n",
       "Blood Type          Patient's blood type, which can be one of the ...\n",
       "Medical Condition   Specifies the primary medical condition or dia...\n",
       "Date of Admission   Date on which the patient was admitted to the ...\n",
       "Doctor              The name of the doctor responsible for the pat...\n",
       "Hospital            Identifies the healthcare facility or hospital...\n",
       "Insurance Provider  Indicates the patient's insurance provider, wh...\n",
       "Billing Amount      Amount of money billed for the patient's healt...\n",
       "Room Number         The room number where the patient was accommod...\n",
       "Admission Type      Specifies the type of admission, which can be ...\n",
       "Discharge Date      The date on which the patient was discharged f...\n",
       "Medication          Identifies a medication prescribed or administ...\n",
       "Test Results        Describes the results of a medical test conduc..."
      ]
     },
     "execution_count": 8,
     "metadata": {},
     "output_type": "execute_result"
    }
   ],
   "source": [
    "reference.T"
   ]
  },
  {
   "cell_type": "code",
   "execution_count": 9,
   "metadata": {},
   "outputs": [
    {
     "name": "stdout",
     "output_type": "stream",
     "text": [
      "Number of Rows:  55500\n",
      "Number of Columns:  15\n"
     ]
    }
   ],
   "source": [
    "len(dataset)\n",
    "\n",
    "np.shape(dataset)\n",
    "\n",
    "rows = len(dataset.axes[0])\n",
    "cols = len(dataset.axes[1])\n",
    "\n",
    "print(\"Number of Rows: \", rows)\n",
    "print(\"Number of Columns: \", cols)"
   ]
  },
  {
   "cell_type": "code",
   "execution_count": 10,
   "metadata": {},
   "outputs": [
    {
     "name": "stdout",
     "output_type": "stream",
     "text": [
      "<class 'pandas.core.frame.DataFrame'>\n",
      "RangeIndex: 55500 entries, 0 to 55499\n",
      "Data columns (total 15 columns):\n",
      " #   Column              Non-Null Count  Dtype  \n",
      "---  ------              --------------  -----  \n",
      " 0   Name                55500 non-null  object \n",
      " 1   Age                 55500 non-null  int64  \n",
      " 2   Gender              55500 non-null  object \n",
      " 3   Blood Type          55500 non-null  object \n",
      " 4   Medical Condition   55500 non-null  object \n",
      " 5   Date of Admission   55500 non-null  object \n",
      " 6   Doctor              55500 non-null  object \n",
      " 7   Hospital            55500 non-null  object \n",
      " 8   Insurance Provider  55500 non-null  object \n",
      " 9   Billing Amount      55500 non-null  float64\n",
      " 10  Room Number         55500 non-null  int64  \n",
      " 11  Admission Type      55500 non-null  object \n",
      " 12  Discharge Date      55500 non-null  object \n",
      " 13  Medication          55500 non-null  object \n",
      " 14  Test Results        55500 non-null  object \n",
      "dtypes: float64(1), int64(2), object(12)\n",
      "memory usage: 6.4+ MB\n"
     ]
    }
   ],
   "source": [
    "dataset.isna().sum()\n",
    "\n",
    "\n",
    "\n",
    "try:\n",
    "  dataset.drop(columns=all, inplace=True)\n",
    "except:\n",
    "  KeyError(\"Column(s) already dropped.\")\n",
    "\n",
    "\n",
    "dataset.dropna(axis=0, inplace = True)\n",
    "\n",
    "\n",
    "\n",
    "dataset.info()"
   ]
  }
 ],
 "metadata": {
  "kernelspec": {
   "display_name": "Python 3",
   "language": "python",
   "name": "python3"
  },
  "language_info": {
   "codemirror_mode": {
    "name": "ipython",
    "version": 3
   },
   "file_extension": ".py",
   "mimetype": "text/x-python",
   "name": "python",
   "nbconvert_exporter": "python",
   "pygments_lexer": "ipython3",
   "version": "3.9.6"
  }
 },
 "nbformat": 4,
 "nbformat_minor": 2
}
